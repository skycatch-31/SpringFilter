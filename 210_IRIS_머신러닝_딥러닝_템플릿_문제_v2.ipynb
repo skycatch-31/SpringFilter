{
  "nbformat": 4,
  "nbformat_minor": 0,
  "metadata": {
    "colab": {
      "provenance": [],
      "include_colab_link": true
    },
    "kernelspec": {
      "name": "python3",
      "display_name": "Python 3"
    },
    "language_info": {
      "name": "python"
    }
  },
  "cells": [
    {
      "cell_type": "markdown",
      "metadata": {
        "id": "view-in-github",
        "colab_type": "text"
      },
      "source": [
        "<a href=\"https://colab.research.google.com/github/skycatch-31/SpringFilter/blob/master/210_IRIS_%EB%A8%B8%EC%8B%A0%EB%9F%AC%EB%8B%9D_%EB%94%A5%EB%9F%AC%EB%8B%9D_%ED%85%9C%ED%94%8C%EB%A6%BF_%EB%AC%B8%EC%A0%9C_v2.ipynb\" target=\"_parent\"><img src=\"https://colab.research.google.com/assets/colab-badge.svg\" alt=\"Open In Colab\"/></a>"
      ]
    },
    {
      "cell_type": "markdown",
      "source": [
        "# 머신러닝, 딥러닝 IRIS템플릿(HARD)"
      ],
      "metadata": {
        "id": "JEYaVs-2FZbG"
      }
    },
    {
      "cell_type": "markdown",
      "source": [
        "## > 머신러닝, 딥러닝 IRIS템플릿 목적\n",
        "- 간단하게 쉽게 머신러닝, 딥러닝 모델링 만들기\n",
        "- 잘 몰라도 아래 순서에 맞게 , 이런식으로 실행하면 되겠구나 느끼기\n",
        "- 여러분이 처음 한다고 생각하고 템플릿 작성함"
      ],
      "metadata": {
        "id": "YXy59gFnGy91"
      }
    },
    {
      "cell_type": "code",
      "source": [],
      "metadata": {
        "id": "k6wWNiz1zQ9L"
      },
      "execution_count": null,
      "outputs": []
    },
    {
      "cell_type": "markdown",
      "source": [
        "## > 모델링 프로세스\n",
        "1. 데이터 가져오기\n",
        "2. 데이터 분석\n",
        "3. X , y 나누기\n",
        "4. 머신러닝 모델링\n",
        "5. 딥러닝 모델링\n",
        "6. 딥러닝 성능 평가"
      ],
      "metadata": {
        "id": "38_o3kptFiCu"
      }
    },
    {
      "cell_type": "markdown",
      "source": [
        "---"
      ],
      "metadata": {
        "id": "ClCquuufGhTN"
      }
    },
    {
      "cell_type": "markdown",
      "source": [
        "# 1. 데이터 가져오기\n",
        "- 먼저, 데이터가 있어야 모델링을 만들수 있다.\n",
        "- 데이터 가져오는 방법에는 여러가지 있다.\n",
        " - 본인 데이터를 직접 올리는 방법\n",
        " - 기존에 제공하는 데이터 가져다 쓰는 방법"
      ],
      "metadata": {
        "id": "lZV4wkNeGdMI"
      }
    },
    {
      "cell_type": "code",
      "execution_count": null,
      "metadata": {
        "id": "bVGzC0YIFQR7"
      },
      "outputs": [],
      "source": [
        "# 필요한 라이브러리 가져오기\n",
        "# 그냥 무조건 가져온다고 생각하자 : pandas, numpy, seaborn, matplotlib.pyplot\n",
        "# seaborn 설치가 되어 있지 않으면 라이브러리는 설치 필요 : !pip install seaborn\n",
        "\n",
        "\n",
        "\n"
      ]
    },
    {
      "cell_type": "code",
      "source": [
        "# Seaborn에서 제공하는 데이터셋 확인하기\n",
        "sns.get_dataset_names()"
      ],
      "metadata": {
        "colab": {
          "base_uri": "https://localhost:8080/"
        },
        "id": "GGckugMNFYRv",
        "outputId": "92a236b3-f922-4d77-f67f-ede21ae2810f"
      },
      "execution_count": null,
      "outputs": [
        {
          "output_type": "execute_result",
          "data": {
            "text/plain": [
              "['anagrams',\n",
              " 'anscombe',\n",
              " 'attention',\n",
              " 'brain_networks',\n",
              " 'car_crashes',\n",
              " 'diamonds',\n",
              " 'dots',\n",
              " 'exercise',\n",
              " 'flights',\n",
              " 'fmri',\n",
              " 'gammas',\n",
              " 'geyser',\n",
              " 'iris',\n",
              " 'mpg',\n",
              " 'penguins',\n",
              " 'planets',\n",
              " 'taxis',\n",
              " 'tips',\n",
              " 'titanic']"
            ]
          },
          "metadata": {},
          "execution_count": 3
        }
      ]
    },
    {
      "cell_type": "markdown",
      "source": [
        "#### IRIS 데이터셋 가져오기"
      ],
      "metadata": {
        "id": "CTUqlObRLA7s"
      }
    },
    {
      "cell_type": "code",
      "source": [
        "# 많이 사용하는 데이터는 'iris' , 'tips' , 'titanic'\n",
        "# 그중에서 iris 데이터셋 가져오기\n",
        "# seaborn load_dataset('iris') 함수 활용 : 결과 iris 저장\n",
        "\n",
        "\n"
      ],
      "metadata": {
        "id": "LcXCrk84FYUX"
      },
      "execution_count": null,
      "outputs": []
    },
    {
      "cell_type": "code",
      "source": [
        "type(iris)"
      ],
      "metadata": {
        "colab": {
          "base_uri": "https://localhost:8080/"
        },
        "id": "cM8-QlrsP3s3",
        "outputId": "79db4ceb-9b5b-47a2-9575-aa00c96cfecb"
      },
      "execution_count": null,
      "outputs": [
        {
          "output_type": "execute_result",
          "data": {
            "text/plain": [
              "pandas.core.frame.DataFrame"
            ]
          },
          "metadata": {},
          "execution_count": 6
        }
      ]
    },
    {
      "cell_type": "code",
      "source": [
        "# 가져온 iris 데이터 앞 5개 확인 하기\n",
        "# 자동으로 판다스 데이터프레임 형식으로 읽어짐\n",
        "\n",
        "\n"
      ],
      "metadata": {
        "colab": {
          "base_uri": "https://localhost:8080/",
          "height": 206
        },
        "id": "UoTVDJjAFYW-",
        "outputId": "6c94fc09-1e0b-4651-eec6-1ac5cb715dfa"
      },
      "execution_count": null,
      "outputs": [
        {
          "output_type": "execute_result",
          "data": {
            "text/plain": [
              "   sepal_length  sepal_width  petal_length  petal_width species\n",
              "0           5.1          3.5           1.4          0.2  setosa\n",
              "1           4.9          3.0           1.4          0.2  setosa\n",
              "2           4.7          3.2           1.3          0.2  setosa\n",
              "3           4.6          3.1           1.5          0.2  setosa\n",
              "4           5.0          3.6           1.4          0.2  setosa"
            ],
            "text/html": [
              "\n",
              "  <div id=\"df-7d796dd5-df91-47ad-98d0-25e165f183fa\">\n",
              "    <div class=\"colab-df-container\">\n",
              "      <div>\n",
              "<style scoped>\n",
              "    .dataframe tbody tr th:only-of-type {\n",
              "        vertical-align: middle;\n",
              "    }\n",
              "\n",
              "    .dataframe tbody tr th {\n",
              "        vertical-align: top;\n",
              "    }\n",
              "\n",
              "    .dataframe thead th {\n",
              "        text-align: right;\n",
              "    }\n",
              "</style>\n",
              "<table border=\"1\" class=\"dataframe\">\n",
              "  <thead>\n",
              "    <tr style=\"text-align: right;\">\n",
              "      <th></th>\n",
              "      <th>sepal_length</th>\n",
              "      <th>sepal_width</th>\n",
              "      <th>petal_length</th>\n",
              "      <th>petal_width</th>\n",
              "      <th>species</th>\n",
              "    </tr>\n",
              "  </thead>\n",
              "  <tbody>\n",
              "    <tr>\n",
              "      <th>0</th>\n",
              "      <td>5.1</td>\n",
              "      <td>3.5</td>\n",
              "      <td>1.4</td>\n",
              "      <td>0.2</td>\n",
              "      <td>setosa</td>\n",
              "    </tr>\n",
              "    <tr>\n",
              "      <th>1</th>\n",
              "      <td>4.9</td>\n",
              "      <td>3.0</td>\n",
              "      <td>1.4</td>\n",
              "      <td>0.2</td>\n",
              "      <td>setosa</td>\n",
              "    </tr>\n",
              "    <tr>\n",
              "      <th>2</th>\n",
              "      <td>4.7</td>\n",
              "      <td>3.2</td>\n",
              "      <td>1.3</td>\n",
              "      <td>0.2</td>\n",
              "      <td>setosa</td>\n",
              "    </tr>\n",
              "    <tr>\n",
              "      <th>3</th>\n",
              "      <td>4.6</td>\n",
              "      <td>3.1</td>\n",
              "      <td>1.5</td>\n",
              "      <td>0.2</td>\n",
              "      <td>setosa</td>\n",
              "    </tr>\n",
              "    <tr>\n",
              "      <th>4</th>\n",
              "      <td>5.0</td>\n",
              "      <td>3.6</td>\n",
              "      <td>1.4</td>\n",
              "      <td>0.2</td>\n",
              "      <td>setosa</td>\n",
              "    </tr>\n",
              "  </tbody>\n",
              "</table>\n",
              "</div>\n",
              "      <button class=\"colab-df-convert\" onclick=\"convertToInteractive('df-7d796dd5-df91-47ad-98d0-25e165f183fa')\"\n",
              "              title=\"Convert this dataframe to an interactive table.\"\n",
              "              style=\"display:none;\">\n",
              "        \n",
              "  <svg xmlns=\"http://www.w3.org/2000/svg\" height=\"24px\"viewBox=\"0 0 24 24\"\n",
              "       width=\"24px\">\n",
              "    <path d=\"M0 0h24v24H0V0z\" fill=\"none\"/>\n",
              "    <path d=\"M18.56 5.44l.94 2.06.94-2.06 2.06-.94-2.06-.94-.94-2.06-.94 2.06-2.06.94zm-11 1L8.5 8.5l.94-2.06 2.06-.94-2.06-.94L8.5 2.5l-.94 2.06-2.06.94zm10 10l.94 2.06.94-2.06 2.06-.94-2.06-.94-.94-2.06-.94 2.06-2.06.94z\"/><path d=\"M17.41 7.96l-1.37-1.37c-.4-.4-.92-.59-1.43-.59-.52 0-1.04.2-1.43.59L10.3 9.45l-7.72 7.72c-.78.78-.78 2.05 0 2.83L4 21.41c.39.39.9.59 1.41.59.51 0 1.02-.2 1.41-.59l7.78-7.78 2.81-2.81c.8-.78.8-2.07 0-2.86zM5.41 20L4 18.59l7.72-7.72 1.47 1.35L5.41 20z\"/>\n",
              "  </svg>\n",
              "      </button>\n",
              "      \n",
              "  <style>\n",
              "    .colab-df-container {\n",
              "      display:flex;\n",
              "      flex-wrap:wrap;\n",
              "      gap: 12px;\n",
              "    }\n",
              "\n",
              "    .colab-df-convert {\n",
              "      background-color: #E8F0FE;\n",
              "      border: none;\n",
              "      border-radius: 50%;\n",
              "      cursor: pointer;\n",
              "      display: none;\n",
              "      fill: #1967D2;\n",
              "      height: 32px;\n",
              "      padding: 0 0 0 0;\n",
              "      width: 32px;\n",
              "    }\n",
              "\n",
              "    .colab-df-convert:hover {\n",
              "      background-color: #E2EBFA;\n",
              "      box-shadow: 0px 1px 2px rgba(60, 64, 67, 0.3), 0px 1px 3px 1px rgba(60, 64, 67, 0.15);\n",
              "      fill: #174EA6;\n",
              "    }\n",
              "\n",
              "    [theme=dark] .colab-df-convert {\n",
              "      background-color: #3B4455;\n",
              "      fill: #D2E3FC;\n",
              "    }\n",
              "\n",
              "    [theme=dark] .colab-df-convert:hover {\n",
              "      background-color: #434B5C;\n",
              "      box-shadow: 0px 1px 3px 1px rgba(0, 0, 0, 0.15);\n",
              "      filter: drop-shadow(0px 1px 2px rgba(0, 0, 0, 0.3));\n",
              "      fill: #FFFFFF;\n",
              "    }\n",
              "  </style>\n",
              "\n",
              "      <script>\n",
              "        const buttonEl =\n",
              "          document.querySelector('#df-7d796dd5-df91-47ad-98d0-25e165f183fa button.colab-df-convert');\n",
              "        buttonEl.style.display =\n",
              "          google.colab.kernel.accessAllowed ? 'block' : 'none';\n",
              "\n",
              "        async function convertToInteractive(key) {\n",
              "          const element = document.querySelector('#df-7d796dd5-df91-47ad-98d0-25e165f183fa');\n",
              "          const dataTable =\n",
              "            await google.colab.kernel.invokeFunction('convertToInteractive',\n",
              "                                                     [key], {});\n",
              "          if (!dataTable) return;\n",
              "\n",
              "          const docLinkHtml = 'Like what you see? Visit the ' +\n",
              "            '<a target=\"_blank\" href=https://colab.research.google.com/notebooks/data_table.ipynb>data table notebook</a>'\n",
              "            + ' to learn more about interactive tables.';\n",
              "          element.innerHTML = '';\n",
              "          dataTable['output_type'] = 'display_data';\n",
              "          await google.colab.output.renderOutput(dataTable, element);\n",
              "          const docLink = document.createElement('div');\n",
              "          docLink.innerHTML = docLinkHtml;\n",
              "          element.appendChild(docLink);\n",
              "        }\n",
              "      </script>\n",
              "    </div>\n",
              "  </div>\n",
              "  "
            ]
          },
          "metadata": {},
          "execution_count": 4
        }
      ]
    },
    {
      "cell_type": "markdown",
      "source": [
        "![IRIS](https://blog.kakaocdn.net/dn/CJCHb/btqS1WqufxB/IMgacd6IXsCl2LLgm1lykK/img.png)"
      ],
      "metadata": {
        "id": "t1vfYoEGKq9D"
      }
    },
    {
      "cell_type": "markdown",
      "source": [
        "# 2. 데이터 분석\n",
        "- 눈으로 데이터 수치를 보고 어떤 흐름인지 파악할수 있지만,\n",
        "- 시각화를 통한다면 쉽게 흐름을 파악할수 있으니, 할수 있으면 사용해라.\n",
        "- 여러분에게는 어려울수 있으니, 아, 이렇게 데이터를 가지고 시각화를 할수 있구나 느낀면 된다."
      ],
      "metadata": {
        "id": "gtGYasrCJlMV"
      }
    },
    {
      "cell_type": "code",
      "source": [
        "# 간단하게 시각화해 보기\n",
        "# 여러분은 잘 모르지만, 나중에 이렇게 시각화를 할수 있구나 알기\n",
        "\n",
        "# value_counts 함수 이용해서 species 컬럼에 대한 분포 확인\n",
        "\n",
        "\n"
      ],
      "metadata": {
        "colab": {
          "base_uri": "https://localhost:8080/"
        },
        "id": "QJ1YjKp2FYZu",
        "outputId": "d9de89f6-6faf-4f62-b348-fc7cb9751c1c"
      },
      "execution_count": null,
      "outputs": [
        {
          "output_type": "execute_result",
          "data": {
            "text/plain": [
              "setosa        50\n",
              "versicolor    50\n",
              "virginica     50\n",
              "Name: species, dtype: int64"
            ]
          },
          "metadata": {},
          "execution_count": 9
        }
      ]
    },
    {
      "cell_type": "code",
      "source": [
        "# value_counts 함수 이용해서 species 컬럼에 대한 분포 확인값을 bar 차트 그리기\n",
        "\n",
        "\n"
      ],
      "metadata": {
        "colab": {
          "base_uri": "https://localhost:8080/",
          "height": 322
        },
        "id": "pjk6u_Jo4key",
        "outputId": "4a4e29da-431e-4786-b1ae-7d13e42f8734"
      },
      "execution_count": null,
      "outputs": [
        {
          "output_type": "execute_result",
          "data": {
            "text/plain": [
              "<matplotlib.axes._subplots.AxesSubplot at 0x7f047deb9490>"
            ]
          },
          "metadata": {},
          "execution_count": 11
        },
        {
          "output_type": "display_data",
          "data": {
            "text/plain": [
              "<Figure size 432x288 with 1 Axes>"
            ],
            "image/png": "[encoded data removed]"
          },
          "metadata": {
            "needs_background": "light"
          }
        }
      ]
    },
    {
      "cell_type": "code",
      "source": [
        "# 판다스 plot 함수 활용해 산점도(scatter) 그래프 시각화해 보기\n",
        "# 입력 : kind='scatter', x='sepal_length', y='petal_length'\n",
        "\n",
        "\n",
        "\n"
      ],
      "metadata": {
        "colab": {
          "base_uri": "https://localhost:8080/",
          "height": 298
        },
        "id": "GjyHj5GzFYcm",
        "outputId": "1910617b-e40a-43e3-b11d-e1b4ebdad649"
      },
      "execution_count": null,
      "outputs": [
        {
          "output_type": "execute_result",
          "data": {
            "text/plain": [
              "<matplotlib.axes._subplots.AxesSubplot at 0x7f0480d9ce50>"
            ]
          },
          "metadata": {},
          "execution_count": 13
        },
        {
          "output_type": "display_data",
          "data": {
            "text/plain": [
              "<Figure size 432x288 with 1 Axes>"
            ],
            "image/png": "[encoded data removed]"
          },
          "metadata": {
            "needs_background": "light"
          }
        }
      ]
    },
    {
      "cell_type": "code",
      "source": [
        "# 이번에는 seaborn scatterplot 함수 활용해서 산점도 그리기\n",
        "# 입력 : data=iris, x='sepal_length', y='petal_length', hue='species'\n",
        "\n",
        "# 위와 똑같은 그래프지만, 붓꽃 종류로 분류해서 그래프\n",
        "# 붓꽃 종류 3가지가 구분되어 보입니다.\n",
        "\n",
        "\n"
      ],
      "metadata": {
        "colab": {
          "base_uri": "https://localhost:8080/",
          "height": 298
        },
        "id": "-f4EDiaIFYfO",
        "outputId": "86a9fe73-46db-49da-b190-8b31406bc45f"
      },
      "execution_count": null,
      "outputs": [
        {
          "output_type": "execute_result",
          "data": {
            "text/plain": [
              "<matplotlib.axes._subplots.AxesSubplot at 0x7f047d8f3cd0>"
            ]
          },
          "metadata": {},
          "execution_count": 15
        },
        {
          "output_type": "display_data",
          "data": {
            "text/plain": [
              "<Figure size 432x288 with 1 Axes>"
            ],
            "image/png": "[encoded data removed]"
          },
          "metadata": {
            "needs_background": "light"
          }
        }
      ]
    },
    {
      "cell_type": "markdown",
      "source": [
        "---"
      ],
      "metadata": {
        "id": "oOZzwql-M_RC"
      }
    },
    {
      "cell_type": "markdown",
      "source": [
        "# 3. X, y 나누기\n",
        "- 지도학습 경우 데이터와 정답이 있어야 합니다.\n",
        "- 데이터에 해당하는 X와 정답에 해당하는 y가 있어야 합니다.\n",
        "- 아래와 같이 판다스를 이용하면 X, y를 쉽게 나눌수 있어요"
      ],
      "metadata": {
        "id": "Dso_eoKDM_HS"
      }
    },
    {
      "cell_type": "code",
      "source": [
        "# IRIS 데이터 뒤 5개 보기\n",
        "\n",
        "\n"
      ],
      "metadata": {
        "colab": {
          "base_uri": "https://localhost:8080/",
          "height": 143
        },
        "id": "Cv1pnGNEJdcX",
        "outputId": "75892b48-4dfa-4ceb-a968-72ced09a8b9a"
      },
      "execution_count": null,
      "outputs": [
        {
          "output_type": "execute_result",
          "data": {
            "text/plain": [
              "     sepal_length  sepal_width  petal_length  petal_width    species\n",
              "147           6.5          3.0           5.2          2.0  virginica\n",
              "148           6.2          3.4           5.4          2.3  virginica\n",
              "149           5.9          3.0           5.1          1.8  virginica"
            ],
            "text/html": [
              "\n",
              "  <div id=\"df-3d762d1f-66d7-4da2-8327-f9875a6be8b1\">\n",
              "    <div class=\"colab-df-container\">\n",
              "      <div>\n",
              "<style scoped>\n",
              "    .dataframe tbody tr th:only-of-type {\n",
              "        vertical-align: middle;\n",
              "    }\n",
              "\n",
              "    .dataframe tbody tr th {\n",
              "        vertical-align: top;\n",
              "    }\n",
              "\n",
              "    .dataframe thead th {\n",
              "        text-align: right;\n",
              "    }\n",
              "</style>\n",
              "<table border=\"1\" class=\"dataframe\">\n",
              "  <thead>\n",
              "    <tr style=\"text-align: right;\">\n",
              "      <th></th>\n",
              "      <th>sepal_length</th>\n",
              "      <th>sepal_width</th>\n",
              "      <th>petal_length</th>\n",
              "      <th>petal_width</th>\n",
              "      <th>species</th>\n",
              "    </tr>\n",
              "  </thead>\n",
              "  <tbody>\n",
              "    <tr>\n",
              "      <th>147</th>\n",
              "      <td>6.5</td>\n",
              "      <td>3.0</td>\n",
              "      <td>5.2</td>\n",
              "      <td>2.0</td>\n",
              "      <td>virginica</td>\n",
              "    </tr>\n",
              "    <tr>\n",
              "      <th>148</th>\n",
              "      <td>6.2</td>\n",
              "      <td>3.4</td>\n",
              "      <td>5.4</td>\n",
              "      <td>2.3</td>\n",
              "      <td>virginica</td>\n",
              "    </tr>\n",
              "    <tr>\n",
              "      <th>149</th>\n",
              "      <td>5.9</td>\n",
              "      <td>3.0</td>\n",
              "      <td>5.1</td>\n",
              "      <td>1.8</td>\n",
              "      <td>virginica</td>\n",
              "    </tr>\n",
              "  </tbody>\n",
              "</table>\n",
              "</div>\n",
              "      <button class=\"colab-df-convert\" onclick=\"convertToInteractive('df-3d762d1f-66d7-4da2-8327-f9875a6be8b1')\"\n",
              "              title=\"Convert this dataframe to an interactive table.\"\n",
              "              style=\"display:none;\">\n",
              "        \n",
              "  <svg xmlns=\"http://www.w3.org/2000/svg\" height=\"24px\"viewBox=\"0 0 24 24\"\n",
              "       width=\"24px\">\n",
              "    <path d=\"M0 0h24v24H0V0z\" fill=\"none\"/>\n",
              "    <path d=\"M18.56 5.44l.94 2.06.94-2.06 2.06-.94-2.06-.94-.94-2.06-.94 2.06-2.06.94zm-11 1L8.5 8.5l.94-2.06 2.06-.94-2.06-.94L8.5 2.5l-.94 2.06-2.06.94zm10 10l.94 2.06.94-2.06 2.06-.94-2.06-.94-.94-2.06-.94 2.06-2.06.94z\"/><path d=\"M17.41 7.96l-1.37-1.37c-.4-.4-.92-.59-1.43-.59-.52 0-1.04.2-1.43.59L10.3 9.45l-7.72 7.72c-.78.78-.78 2.05 0 2.83L4 21.41c.39.39.9.59 1.41.59.51 0 1.02-.2 1.41-.59l7.78-7.78 2.81-2.81c.8-.78.8-2.07 0-2.86zM5.41 20L4 18.59l7.72-7.72 1.47 1.35L5.41 20z\"/>\n",
              "  </svg>\n",
              "      </button>\n",
              "      \n",
              "  <style>\n",
              "    .colab-df-container {\n",
              "      display:flex;\n",
              "      flex-wrap:wrap;\n",
              "      gap: 12px;\n",
              "    }\n",
              "\n",
              "    .colab-df-convert {\n",
              "      background-color: #E8F0FE;\n",
              "      border: none;\n",
              "      border-radius: 50%;\n",
              "      cursor: pointer;\n",
              "      display: none;\n",
              "      fill: #1967D2;\n",
              "      height: 32px;\n",
              "      padding: 0 0 0 0;\n",
              "      width: 32px;\n",
              "    }\n",
              "\n",
              "    .colab-df-convert:hover {\n",
              "      background-color: #E2EBFA;\n",
              "      box-shadow: 0px 1px 2px rgba(60, 64, 67, 0.3), 0px 1px 3px 1px rgba(60, 64, 67, 0.15);\n",
              "      fill: #174EA6;\n",
              "    }\n",
              "\n",
              "    [theme=dark] .colab-df-convert {\n",
              "      background-color: #3B4455;\n",
              "      fill: #D2E3FC;\n",
              "    }\n",
              "\n",
              "    [theme=dark] .colab-df-convert:hover {\n",
              "      background-color: #434B5C;\n",
              "      box-shadow: 0px 1px 3px 1px rgba(0, 0, 0, 0.15);\n",
              "      filter: drop-shadow(0px 1px 2px rgba(0, 0, 0, 0.3));\n",
              "      fill: #FFFFFF;\n",
              "    }\n",
              "  </style>\n",
              "\n",
              "      <script>\n",
              "        const buttonEl =\n",
              "          document.querySelector('#df-3d762d1f-66d7-4da2-8327-f9875a6be8b1 button.colab-df-convert');\n",
              "        buttonEl.style.display =\n",
              "          google.colab.kernel.accessAllowed ? 'block' : 'none';\n",
              "\n",
              "        async function convertToInteractive(key) {\n",
              "          const element = document.querySelector('#df-3d762d1f-66d7-4da2-8327-f9875a6be8b1');\n",
              "          const dataTable =\n",
              "            await google.colab.kernel.invokeFunction('convertToInteractive',\n",
              "                                                     [key], {});\n",
              "          if (!dataTable) return;\n",
              "\n",
              "          const docLinkHtml = 'Like what you see? Visit the ' +\n",
              "            '<a target=\"_blank\" href=https://colab.research.google.com/notebooks/data_table.ipynb>data table notebook</a>'\n",
              "            + ' to learn more about interactive tables.';\n",
              "          element.innerHTML = '';\n",
              "          dataTable['output_type'] = 'display_data';\n",
              "          await google.colab.output.renderOutput(dataTable, element);\n",
              "          const docLink = document.createElement('div');\n",
              "          docLink.innerHTML = docLinkHtml;\n",
              "          element.appendChild(docLink);\n",
              "        }\n",
              "      </script>\n",
              "    </div>\n",
              "  </div>\n",
              "  "
            ]
          },
          "metadata": {},
          "execution_count": 16
        }
      ]
    },
    {
      "cell_type": "code",
      "source": [
        "# X 분리 : 판다스 drop 함수 활용\n",
        "# 입력 : 'species', axis=1\n",
        "\n",
        "\n"
      ],
      "metadata": {
        "id": "jezSR6XXJdfF"
      },
      "execution_count": null,
      "outputs": []
    },
    {
      "cell_type": "code",
      "source": [
        "# 분리된 X 확인 : 데이터 타입이 데이터프레임 확인\n",
        "\n",
        "\n"
      ],
      "metadata": {
        "colab": {
          "base_uri": "https://localhost:8080/",
          "height": 442
        },
        "id": "Mn-HcV07Jdhk",
        "outputId": "79e0553e-05e8-46ad-8c01-c6a06093c0dd"
      },
      "execution_count": null,
      "outputs": [
        {
          "output_type": "stream",
          "name": "stdout",
          "text": [
            "<class 'pandas.core.frame.DataFrame'>\n"
          ]
        },
        {
          "output_type": "execute_result",
          "data": {
            "text/plain": [
              "     sepal_length  sepal_width  petal_length  petal_width\n",
              "0             5.1          3.5           1.4          0.2\n",
              "1             4.9          3.0           1.4          0.2\n",
              "2             4.7          3.2           1.3          0.2\n",
              "3             4.6          3.1           1.5          0.2\n",
              "4             5.0          3.6           1.4          0.2\n",
              "..            ...          ...           ...          ...\n",
              "145           6.7          3.0           5.2          2.3\n",
              "146           6.3          2.5           5.0          1.9\n",
              "147           6.5          3.0           5.2          2.0\n",
              "148           6.2          3.4           5.4          2.3\n",
              "149           5.9          3.0           5.1          1.8\n",
              "\n",
              "[150 rows x 4 columns]"
            ],
            "text/html": [
              "\n",
              "  <div id=\"df-3683485d-7a0b-42bc-b39c-ba41c582a690\">\n",
              "    <div class=\"colab-df-container\">\n",
              "      <div>\n",
              "<style scoped>\n",
              "    .dataframe tbody tr th:only-of-type {\n",
              "        vertical-align: middle;\n",
              "    }\n",
              "\n",
              "    .dataframe tbody tr th {\n",
              "        vertical-align: top;\n",
              "    }\n",
              "\n",
              "    .dataframe thead th {\n",
              "        text-align: right;\n",
              "    }\n",
              "</style>\n",
              "<table border=\"1\" class=\"dataframe\">\n",
              "  <thead>\n",
              "    <tr style=\"text-align: right;\">\n",
              "      <th></th>\n",
              "      <th>sepal_length</th>\n",
              "      <th>sepal_width</th>\n",
              "      <th>petal_length</th>\n",
              "      <th>petal_width</th>\n",
              "    </tr>\n",
              "  </thead>\n",
              "  <tbody>\n",
              "    <tr>\n",
              "      <th>0</th>\n",
              "      <td>5.1</td>\n",
              "      <td>3.5</td>\n",
              "      <td>1.4</td>\n",
              "      <td>0.2</td>\n",
              "    </tr>\n",
              "    <tr>\n",
              "      <th>1</th>\n",
              "      <td>4.9</td>\n",
              "      <td>3.0</td>\n",
              "      <td>1.4</td>\n",
              "      <td>0.2</td>\n",
              "    </tr>\n",
              "    <tr>\n",
              "      <th>2</th>\n",
              "      <td>4.7</td>\n",
              "      <td>3.2</td>\n",
              "      <td>1.3</td>\n",
              "      <td>0.2</td>\n",
              "    </tr>\n",
              "    <tr>\n",
              "      <th>3</th>\n",
              "      <td>4.6</td>\n",
              "      <td>3.1</td>\n",
              "      <td>1.5</td>\n",
              "      <td>0.2</td>\n",
              "    </tr>\n",
              "    <tr>\n",
              "      <th>4</th>\n",
              "      <td>5.0</td>\n",
              "      <td>3.6</td>\n",
              "      <td>1.4</td>\n",
              "      <td>0.2</td>\n",
              "    </tr>\n",
              "    <tr>\n",
              "      <th>...</th>\n",
              "      <td>...</td>\n",
              "      <td>...</td>\n",
              "      <td>...</td>\n",
              "      <td>...</td>\n",
              "    </tr>\n",
              "    <tr>\n",
              "      <th>145</th>\n",
              "      <td>6.7</td>\n",
              "      <td>3.0</td>\n",
              "      <td>5.2</td>\n",
              "      <td>2.3</td>\n",
              "    </tr>\n",
              "    <tr>\n",
              "      <th>146</th>\n",
              "      <td>6.3</td>\n",
              "      <td>2.5</td>\n",
              "      <td>5.0</td>\n",
              "      <td>1.9</td>\n",
              "    </tr>\n",
              "    <tr>\n",
              "      <th>147</th>\n",
              "      <td>6.5</td>\n",
              "      <td>3.0</td>\n",
              "      <td>5.2</td>\n",
              "      <td>2.0</td>\n",
              "    </tr>\n",
              "    <tr>\n",
              "      <th>148</th>\n",
              "      <td>6.2</td>\n",
              "      <td>3.4</td>\n",
              "      <td>5.4</td>\n",
              "      <td>2.3</td>\n",
              "    </tr>\n",
              "    <tr>\n",
              "      <th>149</th>\n",
              "      <td>5.9</td>\n",
              "      <td>3.0</td>\n",
              "      <td>5.1</td>\n",
              "      <td>1.8</td>\n",
              "    </tr>\n",
              "  </tbody>\n",
              "</table>\n",
              "<p>150 rows × 4 columns</p>\n",
              "</div>\n",
              "      <button class=\"colab-df-convert\" onclick=\"convertToInteractive('df-3683485d-7a0b-42bc-b39c-ba41c582a690')\"\n",
              "              title=\"Convert this dataframe to an interactive table.\"\n",
              "              style=\"display:none;\">\n",
              "        \n",
              "  <svg xmlns=\"http://www.w3.org/2000/svg\" height=\"24px\"viewBox=\"0 0 24 24\"\n",
              "       width=\"24px\">\n",
              "    <path d=\"M0 0h24v24H0V0z\" fill=\"none\"/>\n",
              "    <path d=\"M18.56 5.44l.94 2.06.94-2.06 2.06-.94-2.06-.94-.94-2.06-.94 2.06-2.06.94zm-11 1L8.5 8.5l.94-2.06 2.06-.94-2.06-.94L8.5 2.5l-.94 2.06-2.06.94zm10 10l.94 2.06.94-2.06 2.06-.94-2.06-.94-.94-2.06-.94 2.06-2.06.94z\"/><path d=\"M17.41 7.96l-1.37-1.37c-.4-.4-.92-.59-1.43-.59-.52 0-1.04.2-1.43.59L10.3 9.45l-7.72 7.72c-.78.78-.78 2.05 0 2.83L4 21.41c.39.39.9.59 1.41.59.51 0 1.02-.2 1.41-.59l7.78-7.78 2.81-2.81c.8-.78.8-2.07 0-2.86zM5.41 20L4 18.59l7.72-7.72 1.47 1.35L5.41 20z\"/>\n",
              "  </svg>\n",
              "      </button>\n",
              "      \n",
              "  <style>\n",
              "    .colab-df-container {\n",
              "      display:flex;\n",
              "      flex-wrap:wrap;\n",
              "      gap: 12px;\n",
              "    }\n",
              "\n",
              "    .colab-df-convert {\n",
              "      background-color: #E8F0FE;\n",
              "      border: none;\n",
              "      border-radius: 50%;\n",
              "      cursor: pointer;\n",
              "      display: none;\n",
              "      fill: #1967D2;\n",
              "      height: 32px;\n",
              "      padding: 0 0 0 0;\n",
              "      width: 32px;\n",
              "    }\n",
              "\n",
              "    .colab-df-convert:hover {\n",
              "      background-color: #E2EBFA;\n",
              "      box-shadow: 0px 1px 2px rgba(60, 64, 67, 0.3), 0px 1px 3px 1px rgba(60, 64, 67, 0.15);\n",
              "      fill: #174EA6;\n",
              "    }\n",
              "\n",
              "    [theme=dark] .colab-df-convert {\n",
              "      background-color: #3B4455;\n",
              "      fill: #D2E3FC;\n",
              "    }\n",
              "\n",
              "    [theme=dark] .colab-df-convert:hover {\n",
              "      background-color: #434B5C;\n",
              "      box-shadow: 0px 1px 3px 1px rgba(0, 0, 0, 0.15);\n",
              "      filter: drop-shadow(0px 1px 2px rgba(0, 0, 0, 0.3));\n",
              "      fill: #FFFFFF;\n",
              "    }\n",
              "  </style>\n",
              "\n",
              "      <script>\n",
              "        const buttonEl =\n",
              "          document.querySelector('#df-3683485d-7a0b-42bc-b39c-ba41c582a690 button.colab-df-convert');\n",
              "        buttonEl.style.display =\n",
              "          google.colab.kernel.accessAllowed ? 'block' : 'none';\n",
              "\n",
              "        async function convertToInteractive(key) {\n",
              "          const element = document.querySelector('#df-3683485d-7a0b-42bc-b39c-ba41c582a690');\n",
              "          const dataTable =\n",
              "            await google.colab.kernel.invokeFunction('convertToInteractive',\n",
              "                                                     [key], {});\n",
              "          if (!dataTable) return;\n",
              "\n",
              "          const docLinkHtml = 'Like what you see? Visit the ' +\n",
              "            '<a target=\"_blank\" href=https://colab.research.google.com/notebooks/data_table.ipynb>data table notebook</a>'\n",
              "            + ' to learn more about interactive tables.';\n",
              "          element.innerHTML = '';\n",
              "          dataTable['output_type'] = 'display_data';\n",
              "          await google.colab.output.renderOutput(dataTable, element);\n",
              "          const docLink = document.createElement('div');\n",
              "          docLink.innerHTML = docLinkHtml;\n",
              "          element.appendChild(docLink);\n",
              "        }\n",
              "      </script>\n",
              "    </div>\n",
              "  </div>\n",
              "  "
            ]
          },
          "metadata": {},
          "execution_count": 21
        }
      ]
    },
    {
      "cell_type": "code",
      "source": [
        "# y 분리 : 'species' 컬럼값만 분리\n",
        "\n"
      ],
      "metadata": {
        "id": "hh6e4OZlJdkc",
        "colab": {
          "base_uri": "https://localhost:8080/"
        },
        "outputId": "e593eba6-9491-43c0-f73d-c5913089d17b"
      },
      "execution_count": null,
      "outputs": [
        {
          "output_type": "stream",
          "name": "stdout",
          "text": [
            "<class 'pandas.core.series.Series'>\n"
          ]
        }
      ]
    },
    {
      "cell_type": "code",
      "source": [
        "# 분리된 y 확인 : 데이터 타입이 Series 확인\n",
        "# y 값이 문자열로 되어 있음 확인\n",
        "\n",
        "\n"
      ],
      "metadata": {
        "colab": {
          "base_uri": "https://localhost:8080/"
        },
        "id": "Ljxia0PhJdnF",
        "outputId": "14476d1a-abf4-416c-a931-ac925d1fafd9"
      },
      "execution_count": null,
      "outputs": [
        {
          "output_type": "execute_result",
          "data": {
            "text/plain": [
              "0         setosa\n",
              "1         setosa\n",
              "2         setosa\n",
              "3         setosa\n",
              "4         setosa\n",
              "         ...    \n",
              "145    virginica\n",
              "146    virginica\n",
              "147    virginica\n",
              "148    virginica\n",
              "149    virginica\n",
              "Name: species, Length: 150, dtype: object"
            ]
          },
          "metadata": {},
          "execution_count": 24
        }
      ]
    },
    {
      "cell_type": "code",
      "source": [
        "# Series, DataFrame 형태를 numpy array 변경하기\n",
        "# 뒤쪽에서 타입이 맞지 않아서 에러 날수 있기 때문에\n",
        "# X.values , y.values --> X , y 입력\n",
        "\n"
      ],
      "metadata": {
        "id": "-kLzENc671o4"
      },
      "execution_count": null,
      "outputs": []
    },
    {
      "cell_type": "code",
      "source": [
        "print(X[:2])\n",
        "print(y[:2])"
      ],
      "metadata": {
        "colab": {
          "base_uri": "https://localhost:8080/"
        },
        "id": "HwjKovQR74xz",
        "outputId": "a8ceb3dd-c09c-44c1-d6e8-75f71e7927d6"
      },
      "execution_count": null,
      "outputs": [
        {
          "output_type": "stream",
          "name": "stdout",
          "text": [
            "[[5.1 3.5 1.4 0.2]\n",
            " [4.9 3.  1.4 0.2]]\n",
            "['setosa' 'setosa']\n"
          ]
        }
      ]
    },
    {
      "cell_type": "code",
      "source": [
        "# y값이 숫자가 아니기에 컴퓨터가 잘 이해하지 못해 숫자로 변환\n",
        "# setosa --> 0, versicolor --> 1, virginica --> 2 : LabelEncoding\n",
        "\n",
        "from sklearn.preprocessing import LabelEncoder"
      ],
      "metadata": {
        "id": "le1exTjdgshL"
      },
      "execution_count": null,
      "outputs": []
    },
    {
      "cell_type": "code",
      "source": [
        "# 1. LabelEncoder 함수 정의 : le\n",
        "# 2. y값에 대해 fit_transform 함수 이용해서 라벨인코딩 수행하고 다시 y에 저장\n",
        "# 3. le.classes_ 출력해서 어떤 라벨들이 인코딩 되었는지 확인\n",
        "\n",
        "\n",
        "\n"
      ],
      "metadata": {
        "colab": {
          "base_uri": "https://localhost:8080/"
        },
        "id": "rqGnqD9y7W4N",
        "outputId": "a3a9b51e-e2d8-4ce9-b9bb-0599f1d6e535"
      },
      "execution_count": null,
      "outputs": [
        {
          "output_type": "execute_result",
          "data": {
            "text/plain": [
              "array(['setosa', 'versicolor', 'virginica'], dtype=object)"
            ]
          },
          "metadata": {},
          "execution_count": 29
        }
      ]
    },
    {
      "cell_type": "code",
      "source": [
        "# y값들이 라벨인코딩되어 숫자로 표현됨 확인\n",
        "\n",
        "y[:10]"
      ],
      "metadata": {
        "colab": {
          "base_uri": "https://localhost:8080/"
        },
        "id": "AXSTso9o8FpV",
        "outputId": "4c4b69bd-c2fc-4a2f-c721-e33339321ca5"
      },
      "execution_count": null,
      "outputs": [
        {
          "output_type": "execute_result",
          "data": {
            "text/plain": [
              "array([0, 0, 0, 0, 0, 0, 0, 0, 0, 0])"
            ]
          },
          "metadata": {},
          "execution_count": 30
        }
      ]
    },
    {
      "cell_type": "markdown",
      "source": [
        "# 4. Train , Test 데이터셋 나누기\n",
        "- 데이터를 가지고 모델을 학습 시키고 나서 모델 평가를 해야 하는데\n",
        "- 모델이 학습한 데이터를 가지고 평가를 하지 않고\n",
        "- 모델이 모르는 데이터로 평가를 해야 공정하고 평가 결과가 잘 나온다면 배포(일반화) 가능하다."
      ],
      "metadata": {
        "id": "yv2O9eSjTwTP"
      }
    },
    {
      "cell_type": "code",
      "source": [
        "# Train / Test 데이터셋 나누어주는 함수 : train_test_split\n",
        "\n",
        "from sklearn.model_selection import train_test_split"
      ],
      "metadata": {
        "id": "67EKq0wtT-Ip"
      },
      "execution_count": null,
      "outputs": []
    },
    {
      "cell_type": "code",
      "source": [
        "# train_test_split 함수 활용\n",
        "# 입력 : X, y\n",
        "# Train : Test => 8 : 2  비율로 나누기 : test_size=0.2\n",
        "# Train 데이터와 Test 데이터에 y가 쏠리지 않도록 하기 : stratify=y\n",
        "# 매번 같은 결과 나오도록 값 고정 : random_state=42\n",
        "# 결과 저장 : X_train, X_test, y_train, y_test\n",
        "\n",
        "\n"
      ],
      "metadata": {
        "id": "Nvn0qV7AT-EP"
      },
      "execution_count": null,
      "outputs": []
    },
    {
      "cell_type": "code",
      "source": [
        "# Train 과 Test 데이터셋 사이즈 확인\n",
        "# X_train.shape, X_test.shape, y_train.shape, y_test.shape 확인\n",
        "\n",
        "X_train.shape, X_test.shape, y_train.shape, y_test.shape"
      ],
      "metadata": {
        "id": "XF2C537KT-Bp",
        "colab": {
          "base_uri": "https://localhost:8080/"
        },
        "outputId": "8c27b6ad-f263-438c-b713-7392eb1373fd"
      },
      "execution_count": null,
      "outputs": [
        {
          "output_type": "execute_result",
          "data": {
            "text/plain": [
              "((120, 4), (30, 4), (120,), (30,))"
            ]
          },
          "metadata": {},
          "execution_count": 21
        }
      ]
    },
    {
      "cell_type": "markdown",
      "source": [
        "---"
      ],
      "metadata": {
        "id": "D09MIrrx4XPT"
      }
    },
    {
      "cell_type": "markdown",
      "source": [
        "# 5. 머신러닝 모델링\n",
        "- DecisionTree 결정트리\n",
        "- RandomForest 앙상블"
      ],
      "metadata": {
        "id": "fn-wa12h4XkZ"
      }
    },
    {
      "cell_type": "markdown",
      "source": [
        "#### DecisionTree"
      ],
      "metadata": {
        "id": "QjxLNoAM9Y48"
      }
    },
    {
      "cell_type": "markdown",
      "source": [
        "![결정트리](http://gavinln.github.io/blog-site/img/decision_trees/tree-depth-2.png)"
      ],
      "metadata": {
        "id": "U5m8_YDK47kF"
      }
    },
    {
      "cell_type": "code",
      "source": [
        "# DecisionTree 머신러닝 모델링\n",
        "from sklearn.tree import DecisionTreeClassifier"
      ],
      "metadata": {
        "id": "p_Y2A6im6H7m"
      },
      "execution_count": null,
      "outputs": []
    },
    {
      "cell_type": "code",
      "source": [
        "# 1. DecisionTreeClassifier 모델 정의 -> dt 저장\n",
        "# 2. dt 모델 학습 : X_train, y_train\n",
        "# 3. dt 모델 성능확인 : X_test, y_test\n",
        "\n",
        "\n",
        "\n",
        "\n"
      ],
      "metadata": {
        "colab": {
          "base_uri": "https://localhost:8080/"
        },
        "id": "dQ6Up1i6Jdqs",
        "outputId": "87f2563b-1f18-4dbc-a11c-f90278ae46cb"
      },
      "execution_count": null,
      "outputs": [
        {
          "output_type": "execute_result",
          "data": {
            "text/plain": [
              "1.0"
            ]
          },
          "metadata": {},
          "execution_count": 33
        }
      ]
    },
    {
      "cell_type": "markdown",
      "source": [
        "#### RandomForest"
      ],
      "metadata": {
        "id": "M5rch0yM9c1b"
      }
    },
    {
      "cell_type": "markdown",
      "source": [
        "![RandomForest](https://img1.daumcdn.net/thumb/R1280x0/?scode=mtistory2&fname=https%3A%2F%2Fblog.kakaocdn.net%2Fdn%2FdDE2Rk%2FbtqvUzlulvU%2F6UbCGO8rHAhDJDCE3dyRr0%2Fimg.png)"
      ],
      "metadata": {
        "id": "fb45zXH99gzk"
      }
    },
    {
      "cell_type": "code",
      "source": [
        "# RandomForest 머신러닝 모델링\n",
        "from sklearn.ensemble import RandomForestClassifier"
      ],
      "metadata": {
        "id": "h0H_nWss6Y6N"
      },
      "execution_count": null,
      "outputs": []
    },
    {
      "cell_type": "code",
      "source": [
        "# 1. RandomForestClassifier 모델 정의 -> rf 저장\n",
        "# 2. rf 모델 학습 : X_train, y_train\n",
        "# 3. rf 모델 성능확인 : X_test, y_test\n",
        "\n",
        "\n",
        "\n",
        "\n"
      ],
      "metadata": {
        "colab": {
          "base_uri": "https://localhost:8080/"
        },
        "id": "zN6yO2Zj9f5D",
        "outputId": "c1e33e19-ff80-489c-b766-da82fe496741"
      },
      "execution_count": null,
      "outputs": [
        {
          "output_type": "execute_result",
          "data": {
            "text/plain": [
              "1.0"
            ]
          },
          "metadata": {},
          "execution_count": 35
        }
      ]
    },
    {
      "cell_type": "code",
      "source": [
        "rf.predict(X)"
      ],
      "metadata": {
        "colab": {
          "base_uri": "https://localhost:8080/"
        },
        "id": "uGttRcJxZ7lx",
        "outputId": "8da05728-9fc4-4fcb-c4fe-12a002e548f7"
      },
      "execution_count": null,
      "outputs": [
        {
          "output_type": "execute_result",
          "data": {
            "text/plain": [
              "array([0, 0, 0, 0, 0, 0, 0, 0, 0, 0, 0, 0, 0, 0, 0, 0, 0, 0, 0, 0, 0, 0,\n",
              "       0, 0, 0, 0, 0, 0, 0, 0, 0, 0, 0, 0, 0, 0, 0, 0, 0, 0, 0, 0, 0, 0,\n",
              "       0, 0, 0, 0, 0, 0, 1, 1, 1, 1, 1, 1, 1, 1, 1, 1, 1, 1, 1, 1, 1, 1,\n",
              "       1, 1, 1, 1, 1, 1, 1, 1, 1, 1, 1, 1, 1, 1, 1, 1, 1, 1, 1, 1, 1, 1,\n",
              "       1, 1, 1, 1, 1, 1, 1, 1, 1, 1, 1, 1, 2, 2, 2, 2, 2, 2, 2, 2, 2, 2,\n",
              "       2, 2, 2, 2, 2, 2, 2, 2, 2, 2, 2, 2, 2, 2, 2, 2, 2, 2, 2, 2, 2, 2,\n",
              "       2, 2, 2, 2, 2, 2, 2, 2, 2, 2, 2, 2, 2, 2, 2, 2, 2, 2])"
            ]
          },
          "metadata": {},
          "execution_count": 36
        }
      ]
    },
    {
      "cell_type": "code",
      "source": [
        "# X_test 첫라인 샘플 데이터 와 정답 출력\n",
        "# setosa --> 0, versicolor --> 1, virginica --> 2\n",
        "\n",
        "print(X_test[0:1])\n",
        "print(y_test[0:1])"
      ],
      "metadata": {
        "colab": {
          "base_uri": "https://localhost:8080/"
        },
        "outputId": "c79a06ea-6ed4-48fb-a24e-219a0e5ee272",
        "id": "cNAf_wAoJ7Pg"
      },
      "execution_count": null,
      "outputs": [
        {
          "output_type": "stream",
          "name": "stdout",
          "text": [
            "[[4.4 3.  1.3 0.2]]\n",
            "[0]\n"
          ]
        }
      ]
    },
    {
      "cell_type": "code",
      "source": [
        "# X_test 첫라인 샘플 데이터을 모델 입력해서 예측하기\n",
        "# rf 모델의 predict 함수 활용\n",
        "# 입력 : X_test[0:1], 결과 : pred 저장\n",
        "# pred 결과 출력\n",
        "\n"
      ],
      "metadata": {
        "colab": {
          "base_uri": "https://localhost:8080/"
        },
        "outputId": "73d50f4e-2dce-4302-e78f-02af1dabff97",
        "id": "MxVXHhaGJ7Pr"
      },
      "execution_count": null,
      "outputs": [
        {
          "output_type": "stream",
          "name": "stdout",
          "text": [
            "[0]\n"
          ]
        }
      ]
    },
    {
      "cell_type": "markdown",
      "source": [
        "---"
      ],
      "metadata": {
        "id": "1U_4IXyG5WJf"
      }
    },
    {
      "cell_type": "markdown",
      "source": [
        "# 6. 딥러닝 모델링"
      ],
      "metadata": {
        "id": "9tXPnSlN5WCw"
      }
    },
    {
      "cell_type": "code",
      "source": [
        "# 딥러닝 필요한 라이브러리 가져오기\n",
        "\n",
        "import tensorflow as tf\n",
        "from tensorflow.keras.models import Sequential\n",
        "from tensorflow.keras.layers import Dense"
      ],
      "metadata": {
        "id": "yGZebTd6FYii"
      },
      "execution_count": null,
      "outputs": []
    },
    {
      "cell_type": "markdown",
      "source": [
        "![DNN](https://t1.daumcdn.net/cfile/tistory/9976DE33598420B531)"
      ],
      "metadata": {
        "id": "TSCCMe-o5gyW"
      }
    },
    {
      "cell_type": "code",
      "source": [
        "# Sequential 모델 만들기 --> model 변수 저장\n",
        "# input layer : (4, )\n",
        "# hidden layer : 6 unit , activation='relu'\n",
        "# output layer : 3 unit , activation='softmax'\n",
        "\n",
        "\n",
        "\n",
        "\n",
        "\n",
        "\n"
      ],
      "metadata": {
        "id": "Q9oj9TspFYla",
        "colab": {
          "base_uri": "https://localhost:8080/"
        },
        "outputId": "95fcc8bc-92f4-482b-d75e-0932ecbdadfc"
      },
      "execution_count": null,
      "outputs": [
        {
          "output_type": "stream",
          "name": "stdout",
          "text": [
            "Model: \"sequential\"\n",
            "_________________________________________________________________\n",
            " Layer (type)                Output Shape              Param #   \n",
            "=================================================================\n",
            " dense (Dense)               (None, 6)                 30        \n",
            "                                                                 \n",
            " dense_1 (Dense)             (None, 3)                 21        \n",
            "                                                                 \n",
            "=================================================================\n",
            "Total params: 51\n",
            "Trainable params: 51\n",
            "Non-trainable params: 0\n",
            "_________________________________________________________________\n"
          ]
        }
      ]
    },
    {
      "cell_type": "code",
      "source": [
        "# 모델 컴파일 : compile\n",
        "# loss='sparse_categorical_crossentropy'\n",
        "# optimizer='adam'\n",
        "# metrics=['accuracy']\n",
        "\n"
      ],
      "metadata": {
        "id": "GH1c25hG5lx-"
      },
      "execution_count": null,
      "outputs": []
    },
    {
      "cell_type": "code",
      "source": [
        "# 모델 학습 : fit\n",
        "# X_train, y_train, epochs=10, batch_size=8\n",
        "# 학습결과 저장 : history\n",
        "\n",
        "\n"
      ],
      "metadata": {
        "colab": {
          "base_uri": "https://localhost:8080/"
        },
        "id": "k30Hv3Hp9IFh",
        "outputId": "6f8f51ab-dbc9-44a2-a429-c3845442d5e6"
      },
      "execution_count": null,
      "outputs": [
        {
          "output_type": "stream",
          "name": "stdout",
          "text": [
            "Epoch 1/10\n",
            "15/15 [==============================] - 1s 2ms/step - loss: 2.9592 - accuracy: 0.3333\n",
            "Epoch 2/10\n",
            "15/15 [==============================] - 0s 2ms/step - loss: 2.4548 - accuracy: 0.4000\n",
            "Epoch 3/10\n",
            "15/15 [==============================] - 0s 2ms/step - loss: 2.0383 - accuracy: 0.6167\n",
            "Epoch 4/10\n",
            "15/15 [==============================] - 0s 2ms/step - loss: 1.6884 - accuracy: 0.6667\n",
            "Epoch 5/10\n",
            "15/15 [==============================] - 0s 2ms/step - loss: 1.3931 - accuracy: 0.6667\n",
            "Epoch 6/10\n",
            "15/15 [==============================] - 0s 2ms/step - loss: 1.1965 - accuracy: 0.6667\n",
            "Epoch 7/10\n",
            "15/15 [==============================] - 0s 3ms/step - loss: 1.0305 - accuracy: 0.6667\n",
            "Epoch 8/10\n",
            "15/15 [==============================] - 0s 2ms/step - loss: 0.9262 - accuracy: 0.6667\n",
            "Epoch 9/10\n",
            "15/15 [==============================] - 0s 2ms/step - loss: 0.8577 - accuracy: 0.6667\n",
            "Epoch 10/10\n",
            "15/15 [==============================] - 0s 3ms/step - loss: 0.8091 - accuracy: 0.6667\n"
          ]
        }
      ]
    },
    {
      "cell_type": "markdown",
      "source": [
        "### 생각보자 정확도가 높지않네.. 좀더 공부시키자.."
      ],
      "metadata": {
        "id": "kZD-Cc4nKjNl"
      }
    },
    {
      "cell_type": "code",
      "source": [
        "# epochs 횟수 증가하여 모델 학습 : fit\n",
        "# X_train, y_train, epochs=50, batch_size=8 --> epochs 50으로 변경\n",
        "# 학습결과 저장 : history\n",
        "\n"
      ],
      "metadata": {
        "colab": {
          "base_uri": "https://localhost:8080/"
        },
        "outputId": "212fd59d-7e0f-46ba-e8fc-3d96a644453d",
        "id": "C2WuAEWrKjNv"
      },
      "execution_count": null,
      "outputs": [
        {
          "output_type": "stream",
          "name": "stdout",
          "text": [
            "Epoch 1/50\n",
            "15/15 [==============================] - 0s 2ms/step - loss: 0.7732 - accuracy: 0.6667\n",
            "Epoch 2/50\n",
            "15/15 [==============================] - 0s 2ms/step - loss: 0.7462 - accuracy: 0.6667\n",
            "Epoch 3/50\n",
            "15/15 [==============================] - 0s 2ms/step - loss: 0.7235 - accuracy: 0.6667\n",
            "Epoch 4/50\n",
            "15/15 [==============================] - 0s 2ms/step - loss: 0.7068 - accuracy: 0.6667\n",
            "Epoch 5/50\n",
            "15/15 [==============================] - 0s 2ms/step - loss: 0.6927 - accuracy: 0.6667\n",
            "Epoch 6/50\n",
            "15/15 [==============================] - 0s 2ms/step - loss: 0.6808 - accuracy: 0.6750\n",
            "Epoch 7/50\n",
            "15/15 [==============================] - 0s 2ms/step - loss: 0.6693 - accuracy: 0.6917\n",
            "Epoch 8/50\n",
            "15/15 [==============================] - 0s 2ms/step - loss: 0.6589 - accuracy: 0.7667\n",
            "Epoch 9/50\n",
            "15/15 [==============================] - 0s 2ms/step - loss: 0.6492 - accuracy: 0.8250\n",
            "Epoch 10/50\n",
            "15/15 [==============================] - 0s 2ms/step - loss: 0.6397 - accuracy: 0.8750\n",
            "Epoch 11/50\n",
            "15/15 [==============================] - 0s 2ms/step - loss: 0.6306 - accuracy: 0.8833\n",
            "Epoch 12/50\n",
            "15/15 [==============================] - 0s 2ms/step - loss: 0.6205 - accuracy: 0.8667\n",
            "Epoch 13/50\n",
            "15/15 [==============================] - 0s 2ms/step - loss: 0.6109 - accuracy: 0.8917\n",
            "Epoch 14/50\n",
            "15/15 [==============================] - 0s 2ms/step - loss: 0.6018 - accuracy: 0.8917\n",
            "Epoch 15/50\n",
            "15/15 [==============================] - 0s 2ms/step - loss: 0.5926 - accuracy: 0.8917\n",
            "Epoch 16/50\n",
            "15/15 [==============================] - 0s 2ms/step - loss: 0.5836 - accuracy: 0.8917\n",
            "Epoch 17/50\n",
            "15/15 [==============================] - 0s 2ms/step - loss: 0.5751 - accuracy: 0.9000\n",
            "Epoch 18/50\n",
            "15/15 [==============================] - 0s 2ms/step - loss: 0.5665 - accuracy: 0.9000\n",
            "Epoch 19/50\n",
            "15/15 [==============================] - 0s 2ms/step - loss: 0.5578 - accuracy: 0.9000\n",
            "Epoch 20/50\n",
            "15/15 [==============================] - 0s 3ms/step - loss: 0.5500 - accuracy: 0.9000\n",
            "Epoch 21/50\n",
            "15/15 [==============================] - 0s 2ms/step - loss: 0.5409 - accuracy: 0.9167\n",
            "Epoch 22/50\n",
            "15/15 [==============================] - 0s 2ms/step - loss: 0.5329 - accuracy: 0.9333\n",
            "Epoch 23/50\n",
            "15/15 [==============================] - 0s 2ms/step - loss: 0.5259 - accuracy: 0.9250\n",
            "Epoch 24/50\n",
            "15/15 [==============================] - 0s 2ms/step - loss: 0.5166 - accuracy: 0.9250\n",
            "Epoch 25/50\n",
            "15/15 [==============================] - 0s 2ms/step - loss: 0.5092 - accuracy: 0.9333\n",
            "Epoch 26/50\n",
            "15/15 [==============================] - 0s 2ms/step - loss: 0.5009 - accuracy: 0.9333\n",
            "Epoch 27/50\n",
            "15/15 [==============================] - 0s 2ms/step - loss: 0.4940 - accuracy: 0.9500\n",
            "Epoch 28/50\n",
            "15/15 [==============================] - 0s 2ms/step - loss: 0.4860 - accuracy: 0.9500\n",
            "Epoch 29/50\n",
            "15/15 [==============================] - 0s 2ms/step - loss: 0.4794 - accuracy: 0.9417\n",
            "Epoch 30/50\n",
            "15/15 [==============================] - 0s 2ms/step - loss: 0.4713 - accuracy: 0.9500\n",
            "Epoch 31/50\n",
            "15/15 [==============================] - 0s 2ms/step - loss: 0.4643 - accuracy: 0.9500\n",
            "Epoch 32/50\n",
            "15/15 [==============================] - 0s 2ms/step - loss: 0.4585 - accuracy: 0.9500\n",
            "Epoch 33/50\n",
            "15/15 [==============================] - 0s 2ms/step - loss: 0.4504 - accuracy: 0.9500\n",
            "Epoch 34/50\n",
            "15/15 [==============================] - 0s 2ms/step - loss: 0.4443 - accuracy: 0.9500\n",
            "Epoch 35/50\n",
            "15/15 [==============================] - 0s 2ms/step - loss: 0.4374 - accuracy: 0.9500\n",
            "Epoch 36/50\n",
            "15/15 [==============================] - 0s 2ms/step - loss: 0.4309 - accuracy: 0.9500\n",
            "Epoch 37/50\n",
            "15/15 [==============================] - 0s 2ms/step - loss: 0.4249 - accuracy: 0.9667\n",
            "Epoch 38/50\n",
            "15/15 [==============================] - 0s 2ms/step - loss: 0.4192 - accuracy: 0.9667\n",
            "Epoch 39/50\n",
            "15/15 [==============================] - 0s 2ms/step - loss: 0.4124 - accuracy: 0.9667\n",
            "Epoch 40/50\n",
            "15/15 [==============================] - 0s 2ms/step - loss: 0.4063 - accuracy: 0.9667\n",
            "Epoch 41/50\n",
            "15/15 [==============================] - 0s 2ms/step - loss: 0.4006 - accuracy: 0.9667\n",
            "Epoch 42/50\n",
            "15/15 [==============================] - 0s 2ms/step - loss: 0.3945 - accuracy: 0.9667\n",
            "Epoch 43/50\n",
            "15/15 [==============================] - 0s 2ms/step - loss: 0.3883 - accuracy: 0.9667\n",
            "Epoch 44/50\n",
            "15/15 [==============================] - 0s 2ms/step - loss: 0.3826 - accuracy: 0.9667\n",
            "Epoch 45/50\n",
            "15/15 [==============================] - 0s 2ms/step - loss: 0.3765 - accuracy: 0.9667\n",
            "Epoch 46/50\n",
            "15/15 [==============================] - 0s 2ms/step - loss: 0.3714 - accuracy: 0.9667\n",
            "Epoch 47/50\n",
            "15/15 [==============================] - 0s 2ms/step - loss: 0.3671 - accuracy: 0.9667\n",
            "Epoch 48/50\n",
            "15/15 [==============================] - 0s 2ms/step - loss: 0.3613 - accuracy: 0.9667\n",
            "Epoch 49/50\n",
            "15/15 [==============================] - 0s 2ms/step - loss: 0.3565 - accuracy: 0.9667\n",
            "Epoch 50/50\n",
            "15/15 [==============================] - 0s 2ms/step - loss: 0.3525 - accuracy: 0.9667\n"
          ]
        }
      ]
    },
    {
      "cell_type": "markdown",
      "source": [
        "### 이번에 모델 학습시 각 에포크 때마다 안본 데이터(Test)로 모델 평가해 보자!!\n",
        "\n"
      ],
      "metadata": {
        "id": "K79WEgOsKsKR"
      }
    },
    {
      "cell_type": "code",
      "source": [
        "# epochs 횟수 증가하여 모델 학습 : fit\n",
        "# X_train, y_train, epochs=50, batch_size=8 , validation_data=(X_test, y_test)\n",
        "# 학습결과 저장 : history\n",
        "\n"
      ],
      "metadata": {
        "colab": {
          "base_uri": "https://localhost:8080/"
        },
        "outputId": "15b5eb5a-3fe7-4bdd-c90f-06caff0cee4a",
        "id": "wXehZ6c5KsKa"
      },
      "execution_count": null,
      "outputs": [
        {
          "output_type": "stream",
          "name": "stdout",
          "text": [
            "Epoch 1/50\n",
            "15/15 [==============================] - 0s 18ms/step - loss: 0.3475 - accuracy: 0.9667 - val_loss: 0.3501 - val_accuracy: 0.9667\n",
            "Epoch 2/50\n",
            "15/15 [==============================] - 0s 5ms/step - loss: 0.3431 - accuracy: 0.9667 - val_loss: 0.3459 - val_accuracy: 0.9667\n",
            "Epoch 3/50\n",
            "15/15 [==============================] - 0s 4ms/step - loss: 0.3390 - accuracy: 0.9667 - val_loss: 0.3419 - val_accuracy: 0.9667\n",
            "Epoch 4/50\n",
            "15/15 [==============================] - 0s 5ms/step - loss: 0.3342 - accuracy: 0.9667 - val_loss: 0.3377 - val_accuracy: 0.9667\n",
            "Epoch 5/50\n",
            "15/15 [==============================] - 0s 5ms/step - loss: 0.3301 - accuracy: 0.9667 - val_loss: 0.3338 - val_accuracy: 0.9667\n",
            "Epoch 6/50\n",
            "15/15 [==============================] - 0s 4ms/step - loss: 0.3262 - accuracy: 0.9667 - val_loss: 0.3300 - val_accuracy: 0.9667\n",
            "Epoch 7/50\n",
            "15/15 [==============================] - 0s 6ms/step - loss: 0.3226 - accuracy: 0.9667 - val_loss: 0.3262 - val_accuracy: 0.9667\n",
            "Epoch 8/50\n",
            "15/15 [==============================] - 0s 5ms/step - loss: 0.3192 - accuracy: 0.9750 - val_loss: 0.3229 - val_accuracy: 0.9667\n",
            "Epoch 9/50\n",
            "15/15 [==============================] - 0s 5ms/step - loss: 0.3149 - accuracy: 0.9667 - val_loss: 0.3189 - val_accuracy: 0.9667\n",
            "Epoch 10/50\n",
            "15/15 [==============================] - 0s 5ms/step - loss: 0.3118 - accuracy: 0.9667 - val_loss: 0.3152 - val_accuracy: 0.9667\n",
            "Epoch 11/50\n",
            "15/15 [==============================] - 0s 4ms/step - loss: 0.3077 - accuracy: 0.9667 - val_loss: 0.3122 - val_accuracy: 0.9667\n",
            "Epoch 12/50\n",
            "15/15 [==============================] - 0s 6ms/step - loss: 0.3034 - accuracy: 0.9667 - val_loss: 0.3084 - val_accuracy: 0.9667\n",
            "Epoch 13/50\n",
            "15/15 [==============================] - 0s 4ms/step - loss: 0.3000 - accuracy: 0.9667 - val_loss: 0.3045 - val_accuracy: 0.9667\n",
            "Epoch 14/50\n",
            "15/15 [==============================] - 0s 4ms/step - loss: 0.2963 - accuracy: 0.9667 - val_loss: 0.3014 - val_accuracy: 0.9667\n",
            "Epoch 15/50\n",
            "15/15 [==============================] - 0s 4ms/step - loss: 0.2959 - accuracy: 0.9667 - val_loss: 0.2983 - val_accuracy: 0.9667\n",
            "Epoch 16/50\n",
            "15/15 [==============================] - 0s 4ms/step - loss: 0.2890 - accuracy: 0.9667 - val_loss: 0.2959 - val_accuracy: 0.9667\n",
            "Epoch 17/50\n",
            "15/15 [==============================] - 0s 5ms/step - loss: 0.2883 - accuracy: 0.9833 - val_loss: 0.2928 - val_accuracy: 0.9667\n",
            "Epoch 18/50\n",
            "15/15 [==============================] - 0s 5ms/step - loss: 0.2829 - accuracy: 0.9667 - val_loss: 0.2885 - val_accuracy: 0.9667\n",
            "Epoch 19/50\n",
            "15/15 [==============================] - 0s 6ms/step - loss: 0.2800 - accuracy: 0.9667 - val_loss: 0.2857 - val_accuracy: 0.9667\n",
            "Epoch 20/50\n",
            "15/15 [==============================] - 0s 4ms/step - loss: 0.2765 - accuracy: 0.9667 - val_loss: 0.2827 - val_accuracy: 0.9667\n",
            "Epoch 21/50\n",
            "15/15 [==============================] - 0s 6ms/step - loss: 0.2753 - accuracy: 0.9667 - val_loss: 0.2805 - val_accuracy: 0.9667\n",
            "Epoch 22/50\n",
            "15/15 [==============================] - 0s 4ms/step - loss: 0.2723 - accuracy: 0.9750 - val_loss: 0.2767 - val_accuracy: 0.9667\n",
            "Epoch 23/50\n",
            "15/15 [==============================] - 0s 5ms/step - loss: 0.2686 - accuracy: 0.9667 - val_loss: 0.2746 - val_accuracy: 0.9667\n",
            "Epoch 24/50\n",
            "15/15 [==============================] - 0s 5ms/step - loss: 0.2647 - accuracy: 0.9833 - val_loss: 0.2716 - val_accuracy: 0.9667\n",
            "Epoch 25/50\n",
            "15/15 [==============================] - 0s 5ms/step - loss: 0.2619 - accuracy: 0.9833 - val_loss: 0.2689 - val_accuracy: 0.9667\n",
            "Epoch 26/50\n",
            "15/15 [==============================] - 0s 4ms/step - loss: 0.2593 - accuracy: 0.9750 - val_loss: 0.2661 - val_accuracy: 0.9667\n",
            "Epoch 27/50\n",
            "15/15 [==============================] - 0s 5ms/step - loss: 0.2565 - accuracy: 0.9833 - val_loss: 0.2639 - val_accuracy: 0.9667\n",
            "Epoch 28/50\n",
            "15/15 [==============================] - 0s 4ms/step - loss: 0.2537 - accuracy: 0.9833 - val_loss: 0.2612 - val_accuracy: 0.9667\n",
            "Epoch 29/50\n",
            "15/15 [==============================] - 0s 4ms/step - loss: 0.2512 - accuracy: 0.9833 - val_loss: 0.2584 - val_accuracy: 0.9667\n",
            "Epoch 30/50\n",
            "15/15 [==============================] - 0s 4ms/step - loss: 0.2489 - accuracy: 0.9750 - val_loss: 0.2562 - val_accuracy: 0.9667\n",
            "Epoch 31/50\n",
            "15/15 [==============================] - 0s 5ms/step - loss: 0.2487 - accuracy: 0.9833 - val_loss: 0.2545 - val_accuracy: 0.9667\n",
            "Epoch 32/50\n",
            "15/15 [==============================] - 0s 4ms/step - loss: 0.2449 - accuracy: 0.9667 - val_loss: 0.2511 - val_accuracy: 0.9667\n",
            "Epoch 33/50\n",
            "15/15 [==============================] - 0s 4ms/step - loss: 0.2423 - accuracy: 0.9750 - val_loss: 0.2494 - val_accuracy: 0.9667\n",
            "Epoch 34/50\n",
            "15/15 [==============================] - 0s 5ms/step - loss: 0.2393 - accuracy: 0.9833 - val_loss: 0.2467 - val_accuracy: 0.9667\n",
            "Epoch 35/50\n",
            "15/15 [==============================] - 0s 4ms/step - loss: 0.2373 - accuracy: 0.9833 - val_loss: 0.2449 - val_accuracy: 0.9667\n",
            "Epoch 36/50\n",
            "15/15 [==============================] - 0s 5ms/step - loss: 0.2353 - accuracy: 0.9750 - val_loss: 0.2423 - val_accuracy: 0.9667\n",
            "Epoch 37/50\n",
            "15/15 [==============================] - 0s 4ms/step - loss: 0.2319 - accuracy: 0.9833 - val_loss: 0.2408 - val_accuracy: 0.9667\n",
            "Epoch 38/50\n",
            "15/15 [==============================] - 0s 5ms/step - loss: 0.2317 - accuracy: 0.9833 - val_loss: 0.2405 - val_accuracy: 0.9667\n",
            "Epoch 39/50\n",
            "15/15 [==============================] - 0s 5ms/step - loss: 0.2273 - accuracy: 0.9833 - val_loss: 0.2359 - val_accuracy: 0.9667\n",
            "Epoch 40/50\n",
            "15/15 [==============================] - 0s 5ms/step - loss: 0.2270 - accuracy: 0.9750 - val_loss: 0.2339 - val_accuracy: 0.9667\n",
            "Epoch 41/50\n",
            "15/15 [==============================] - 0s 5ms/step - loss: 0.2234 - accuracy: 0.9750 - val_loss: 0.2325 - val_accuracy: 0.9667\n",
            "Epoch 42/50\n",
            "15/15 [==============================] - 0s 5ms/step - loss: 0.2217 - accuracy: 0.9833 - val_loss: 0.2303 - val_accuracy: 0.9667\n",
            "Epoch 43/50\n",
            "15/15 [==============================] - 0s 5ms/step - loss: 0.2199 - accuracy: 0.9833 - val_loss: 0.2282 - val_accuracy: 0.9667\n",
            "Epoch 44/50\n",
            "15/15 [==============================] - 0s 5ms/step - loss: 0.2177 - accuracy: 0.9833 - val_loss: 0.2265 - val_accuracy: 0.9667\n",
            "Epoch 45/50\n",
            "15/15 [==============================] - 0s 4ms/step - loss: 0.2163 - accuracy: 0.9833 - val_loss: 0.2244 - val_accuracy: 0.9667\n",
            "Epoch 46/50\n",
            "15/15 [==============================] - 0s 4ms/step - loss: 0.2144 - accuracy: 0.9833 - val_loss: 0.2233 - val_accuracy: 0.9667\n",
            "Epoch 47/50\n",
            "15/15 [==============================] - 0s 5ms/step - loss: 0.2131 - accuracy: 0.9833 - val_loss: 0.2207 - val_accuracy: 0.9667\n",
            "Epoch 48/50\n",
            "15/15 [==============================] - 0s 4ms/step - loss: 0.2108 - accuracy: 0.9833 - val_loss: 0.2201 - val_accuracy: 0.9667\n",
            "Epoch 49/50\n",
            "15/15 [==============================] - 0s 4ms/step - loss: 0.2086 - accuracy: 0.9833 - val_loss: 0.2173 - val_accuracy: 0.9667\n",
            "Epoch 50/50\n",
            "15/15 [==============================] - 0s 5ms/step - loss: 0.2074 - accuracy: 0.9833 - val_loss: 0.2154 - val_accuracy: 0.9667\n"
          ]
        }
      ]
    },
    {
      "cell_type": "markdown",
      "source": [
        "---"
      ],
      "metadata": {
        "id": "WUtvAwPbLpIY"
      }
    },
    {
      "cell_type": "markdown",
      "source": [
        "# 7. 딥러닝 성능 평가"
      ],
      "metadata": {
        "id": "-368-McM51w8"
      }
    },
    {
      "cell_type": "code",
      "source": [
        "# 모델 학습 정보\n",
        "\n",
        "history.history"
      ],
      "metadata": {
        "colab": {
          "base_uri": "https://localhost:8080/"
        },
        "id": "mBWCjv9GLLi_",
        "outputId": "a726724c-84c3-4142-9c16-7b635c80213f"
      },
      "execution_count": null,
      "outputs": [
        {
          "output_type": "execute_result",
          "data": {
            "text/plain": [
              "{'loss': [0.3475159704685211,\n",
              "  0.3431180715560913,\n",
              "  0.33899977803230286,\n",
              "  0.3342430889606476,\n",
              "  0.33010825514793396,\n",
              "  0.3261609375476837,\n",
              "  0.3225550651550293,\n",
              "  0.31918665766716003,\n",
              "  0.3148781359195709,\n",
              "  0.3118138313293457,\n",
              "  0.30774471163749695,\n",
              "  0.30339720845222473,\n",
              "  0.2999865710735321,\n",
              "  0.29632043838500977,\n",
              "  0.2958836257457733,\n",
              "  0.2890031933784485,\n",
              "  0.2883126139640808,\n",
              "  0.28292953968048096,\n",
              "  0.2800126373767853,\n",
              "  0.2764897644519806,\n",
              "  0.27533218264579773,\n",
              "  0.27229607105255127,\n",
              "  0.26857563853263855,\n",
              "  0.26467713713645935,\n",
              "  0.2618635594844818,\n",
              "  0.2593277096748352,\n",
              "  0.25653013586997986,\n",
              "  0.25368356704711914,\n",
              "  0.2512003183364868,\n",
              "  0.24888449907302856,\n",
              "  0.2487463355064392,\n",
              "  0.24487552046775818,\n",
              "  0.24230614304542542,\n",
              "  0.23925895988941193,\n",
              "  0.23734745383262634,\n",
              "  0.2353346049785614,\n",
              "  0.23190490901470184,\n",
              "  0.23172280192375183,\n",
              "  0.22732171416282654,\n",
              "  0.2270229607820511,\n",
              "  0.2234153002500534,\n",
              "  0.22166119515895844,\n",
              "  0.21993611752986908,\n",
              "  0.21774369478225708,\n",
              "  0.21629871428012848,\n",
              "  0.21436800062656403,\n",
              "  0.21308526396751404,\n",
              "  0.2108168751001358,\n",
              "  0.20859010517597198,\n",
              "  0.2074270397424698],\n",
              " 'accuracy': [0.9666666388511658,\n",
              "  0.9666666388511658,\n",
              "  0.9666666388511658,\n",
              "  0.9666666388511658,\n",
              "  0.9666666388511658,\n",
              "  0.9666666388511658,\n",
              "  0.9666666388511658,\n",
              "  0.9750000238418579,\n",
              "  0.9666666388511658,\n",
              "  0.9666666388511658,\n",
              "  0.9666666388511658,\n",
              "  0.9666666388511658,\n",
              "  0.9666666388511658,\n",
              "  0.9666666388511658,\n",
              "  0.9666666388511658,\n",
              "  0.9666666388511658,\n",
              "  0.9833333492279053,\n",
              "  0.9666666388511658,\n",
              "  0.9666666388511658,\n",
              "  0.9666666388511658,\n",
              "  0.9666666388511658,\n",
              "  0.9750000238418579,\n",
              "  0.9666666388511658,\n",
              "  0.9833333492279053,\n",
              "  0.9833333492279053,\n",
              "  0.9750000238418579,\n",
              "  0.9833333492279053,\n",
              "  0.9833333492279053,\n",
              "  0.9833333492279053,\n",
              "  0.9750000238418579,\n",
              "  0.9833333492279053,\n",
              "  0.9666666388511658,\n",
              "  0.9750000238418579,\n",
              "  0.9833333492279053,\n",
              "  0.9833333492279053,\n",
              "  0.9750000238418579,\n",
              "  0.9833333492279053,\n",
              "  0.9833333492279053,\n",
              "  0.9833333492279053,\n",
              "  0.9750000238418579,\n",
              "  0.9750000238418579,\n",
              "  0.9833333492279053,\n",
              "  0.9833333492279053,\n",
              "  0.9833333492279053,\n",
              "  0.9833333492279053,\n",
              "  0.9833333492279053,\n",
              "  0.9833333492279053,\n",
              "  0.9833333492279053,\n",
              "  0.9833333492279053,\n",
              "  0.9833333492279053],\n",
              " 'val_loss': [0.3501259386539459,\n",
              "  0.3458842933177948,\n",
              "  0.34187716245651245,\n",
              "  0.3376985788345337,\n",
              "  0.3338489234447479,\n",
              "  0.3299858272075653,\n",
              "  0.3262172043323517,\n",
              "  0.3229175806045532,\n",
              "  0.31893104314804077,\n",
              "  0.3151613771915436,\n",
              "  0.3121767044067383,\n",
              "  0.30844438076019287,\n",
              "  0.3045024871826172,\n",
              "  0.30140069127082825,\n",
              "  0.29827550053596497,\n",
              "  0.29585203528404236,\n",
              "  0.2928093373775482,\n",
              "  0.28851285576820374,\n",
              "  0.2857176959514618,\n",
              "  0.28270307183265686,\n",
              "  0.28053149580955505,\n",
              "  0.27673065662384033,\n",
              "  0.2745533883571625,\n",
              "  0.27163752913475037,\n",
              "  0.26894310116767883,\n",
              "  0.26605093479156494,\n",
              "  0.26388227939605713,\n",
              "  0.2612086832523346,\n",
              "  0.2583799958229065,\n",
              "  0.25616973638534546,\n",
              "  0.25450369715690613,\n",
              "  0.251141756772995,\n",
              "  0.24936524033546448,\n",
              "  0.24672900140285492,\n",
              "  0.2448711395263672,\n",
              "  0.2422853410243988,\n",
              "  0.240810364484787,\n",
              "  0.2404872626066208,\n",
              "  0.2359205186367035,\n",
              "  0.23393739759922028,\n",
              "  0.23248790204524994,\n",
              "  0.2303495705127716,\n",
              "  0.22819766402244568,\n",
              "  0.22654320299625397,\n",
              "  0.2243618667125702,\n",
              "  0.22332555055618286,\n",
              "  0.22071488201618195,\n",
              "  0.2200888991355896,\n",
              "  0.21728107333183289,\n",
              "  0.21543078124523163],\n",
              " 'val_accuracy': [0.9666666388511658,\n",
              "  0.9666666388511658,\n",
              "  0.9666666388511658,\n",
              "  0.9666666388511658,\n",
              "  0.9666666388511658,\n",
              "  0.9666666388511658,\n",
              "  0.9666666388511658,\n",
              "  0.9666666388511658,\n",
              "  0.9666666388511658,\n",
              "  0.9666666388511658,\n",
              "  0.9666666388511658,\n",
              "  0.9666666388511658,\n",
              "  0.9666666388511658,\n",
              "  0.9666666388511658,\n",
              "  0.9666666388511658,\n",
              "  0.9666666388511658,\n",
              "  0.9666666388511658,\n",
              "  0.9666666388511658,\n",
              "  0.9666666388511658,\n",
              "  0.9666666388511658,\n",
              "  0.9666666388511658,\n",
              "  0.9666666388511658,\n",
              "  0.9666666388511658,\n",
              "  0.9666666388511658,\n",
              "  0.9666666388511658,\n",
              "  0.9666666388511658,\n",
              "  0.9666666388511658,\n",
              "  0.9666666388511658,\n",
              "  0.9666666388511658,\n",
              "  0.9666666388511658,\n",
              "  0.9666666388511658,\n",
              "  0.9666666388511658,\n",
              "  0.9666666388511658,\n",
              "  0.9666666388511658,\n",
              "  0.9666666388511658,\n",
              "  0.9666666388511658,\n",
              "  0.9666666388511658,\n",
              "  0.9666666388511658,\n",
              "  0.9666666388511658,\n",
              "  0.9666666388511658,\n",
              "  0.9666666388511658,\n",
              "  0.9666666388511658,\n",
              "  0.9666666388511658,\n",
              "  0.9666666388511658,\n",
              "  0.9666666388511658,\n",
              "  0.9666666388511658,\n",
              "  0.9666666388511658,\n",
              "  0.9666666388511658,\n",
              "  0.9666666388511658,\n",
              "  0.9666666388511658]}"
            ]
          },
          "metadata": {},
          "execution_count": 36
        }
      ]
    },
    {
      "cell_type": "code",
      "source": [
        "# matplotlib 이용하여 그래프 그리기\n",
        "# 1. plot 그리기 : 입력  history.history['loss'] , history.history['val_loss']\n",
        "# 2. plot 그리기 : 입력  history.history['accuracy'] , history.history['val_accuracy']\n",
        "# 3. title : 'Loss and Accuracy'\n",
        "# 4. xlabel : \"Epochs\"\n",
        "# 5. ylabel : \"Loss\"\n",
        "# 6. legend : [\"Loss\", \"Accuracy\"]\n",
        "# 7. plt.show()\n",
        "\n",
        "\n",
        "\n",
        "\n"
      ],
      "metadata": {
        "id": "F3Q5YHap5lvG",
        "colab": {
          "base_uri": "https://localhost:8080/",
          "height": 472
        },
        "outputId": "b5bcb38f-b39b-41c8-c05c-a8d5a31d0d5a"
      },
      "execution_count": null,
      "outputs": [
        {
          "output_type": "display_data",
          "data": {
            "text/plain": [
              "<Figure size 640x480 with 1 Axes>"
            ],
            "image/png": "[encoded data removed]"
          },
          "metadata": {}
        }
      ]
    },
    {
      "cell_type": "markdown",
      "source": [
        "---"
      ],
      "metadata": {
        "id": "lXayjZaA515j"
      }
    },
    {
      "cell_type": "code",
      "source": [],
      "metadata": {
        "id": "NZIekizc5lsG"
      },
      "execution_count": null,
      "outputs": []
    }
  ]
}